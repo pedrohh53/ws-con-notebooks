{
    "cells": [
        {
            "metadata": {},
            "cell_type": "raw",
            "source": "Descripcion\nEstudio de los datos covid 19 de la oms"
        },
        {
            "metadata": {},
            "cell_type": "code",
            "source": "\nimport types\nimport pandas as pd\nfrom botocore.client import Config\nimport ibm_boto3\n\ndef __iter__(self): return 0\n\n# @hidden_cell\n# The following code accesses a file in your IBM Cloud Object Storage. It includes your credentials.\n# You might want to remove those credentials before you share the notebook.\nclient_7f162d0a89ea4657b4ec1806008b6cce = ibm_boto3.client(service_name='s3',\n    ibm_api_key_id='lGG-oYIYyVV3i9ZCjjAbaFYA5QNTD2K2Zdy8Dn-o3dtR',\n    ibm_auth_endpoint=\"https://iam.cloud.ibm.com/oidc/token\",\n    config=Config(signature_version='oauth'),\n    endpoint_url='https://s3.eu-geo.objectstorage.service.networklayer.com')\n\nbody = client_7f162d0a89ea4657b4ec1806008b6cce.get_object(Bucket='covid19-donotdelete-pr-xjussqdgxahk2g',Key='WHO COVID-19 global table data February 10th 2021 at 12.30.37 PM.csv')['Body']\n# add missing __iter__ method, so pandas accepts body as file-like object\nif not hasattr(body, \"__iter__\"): body.__iter__ = types.MethodType( __iter__, body )\n\ndf_data_1 = pd.read_csv(body)\ndf_data_1.head()\n",
            "execution_count": 2,
            "outputs": [
                {
                    "output_type": "execute_result",
                    "execution_count": 2,
                    "data": {
                        "text/plain": "                       Name       WHO Region  Cases - cumulative total  \\\n0                    Global              NaN                 106321987   \n1  United States of America         Americas                  26832826   \n2                     India  South-East Asia                  10858371   \n3                    Brazil         Americas                   9548079   \n4        Russian Federation           Europe                   3998216   \n\n   Cases - cumulative total per 1 million population  \\\n0                                       13620.004586   \n1                                       81065.290000   \n2                                        7868.360000   \n3                                       44919.580000   \n4                                       27397.340000   \n\n   Cases - newly reported in last 7 days  \\\n0                                2957551   \n1                                 777314   \n2                                  81087   \n3                                 318757   \n4                                 113486   \n\n   Cases - newly reported in last 24 hours  Deaths - cumulative total  \\\n0                                   296724                    2325282   \n1                                    86449                     461610   \n2                                    11067                     155252   \n3                                    23439                     232170   \n4                                    15019                      77598   \n\n   Deaths - cumulative total per 1 million population  \\\n0                                         297.872081    \n1                                        1394.580000    \n2                                         112.500000    \n3                                        1092.260000    \n4                                         531.730000    \n\n   Deaths - newly reported in last 7 days  \\\n0                                   84679   \n1                                   21780   \n2                                     656   \n3                                    7071   \n4                                    3440   \n\n   Deaths - newly reported in last 24 hours Transmission Classification  \n0                                      8680                         NaN  \n1                                      1617      Community transmission  \n2                                        94           Clusters of cases  \n3                                       636      Community transmission  \n4                                       530           Clusters of cases  ",
                        "text/html": "<div>\n<style scoped>\n    .dataframe tbody tr th:only-of-type {\n        vertical-align: middle;\n    }\n\n    .dataframe tbody tr th {\n        vertical-align: top;\n    }\n\n    .dataframe thead th {\n        text-align: right;\n    }\n</style>\n<table border=\"1\" class=\"dataframe\">\n  <thead>\n    <tr style=\"text-align: right;\">\n      <th></th>\n      <th>Name</th>\n      <th>WHO Region</th>\n      <th>Cases - cumulative total</th>\n      <th>Cases - cumulative total per 1 million population</th>\n      <th>Cases - newly reported in last 7 days</th>\n      <th>Cases - newly reported in last 24 hours</th>\n      <th>Deaths - cumulative total</th>\n      <th>Deaths - cumulative total per 1 million population</th>\n      <th>Deaths - newly reported in last 7 days</th>\n      <th>Deaths - newly reported in last 24 hours</th>\n      <th>Transmission Classification</th>\n    </tr>\n  </thead>\n  <tbody>\n    <tr>\n      <th>0</th>\n      <td>Global</td>\n      <td>NaN</td>\n      <td>106321987</td>\n      <td>13620.004586</td>\n      <td>2957551</td>\n      <td>296724</td>\n      <td>2325282</td>\n      <td>297.872081</td>\n      <td>84679</td>\n      <td>8680</td>\n      <td>NaN</td>\n    </tr>\n    <tr>\n      <th>1</th>\n      <td>United States of America</td>\n      <td>Americas</td>\n      <td>26832826</td>\n      <td>81065.290000</td>\n      <td>777314</td>\n      <td>86449</td>\n      <td>461610</td>\n      <td>1394.580000</td>\n      <td>21780</td>\n      <td>1617</td>\n      <td>Community transmission</td>\n    </tr>\n    <tr>\n      <th>2</th>\n      <td>India</td>\n      <td>South-East Asia</td>\n      <td>10858371</td>\n      <td>7868.360000</td>\n      <td>81087</td>\n      <td>11067</td>\n      <td>155252</td>\n      <td>112.500000</td>\n      <td>656</td>\n      <td>94</td>\n      <td>Clusters of cases</td>\n    </tr>\n    <tr>\n      <th>3</th>\n      <td>Brazil</td>\n      <td>Americas</td>\n      <td>9548079</td>\n      <td>44919.580000</td>\n      <td>318757</td>\n      <td>23439</td>\n      <td>232170</td>\n      <td>1092.260000</td>\n      <td>7071</td>\n      <td>636</td>\n      <td>Community transmission</td>\n    </tr>\n    <tr>\n      <th>4</th>\n      <td>Russian Federation</td>\n      <td>Europe</td>\n      <td>3998216</td>\n      <td>27397.340000</td>\n      <td>113486</td>\n      <td>15019</td>\n      <td>77598</td>\n      <td>531.730000</td>\n      <td>3440</td>\n      <td>530</td>\n      <td>Clusters of cases</td>\n    </tr>\n  </tbody>\n</table>\n</div>"
                    },
                    "metadata": {}
                }
            ]
        },
        {
            "metadata": {},
            "cell_type": "code",
            "source": "",
            "execution_count": null,
            "outputs": []
        }
    ],
    "metadata": {
        "kernelspec": {
            "name": "python3",
            "display_name": "Python 3.7",
            "language": "python"
        },
        "language_info": {
            "name": "python",
            "version": "3.7.9",
            "mimetype": "text/x-python",
            "codemirror_mode": {
                "name": "ipython",
                "version": 3
            },
            "pygments_lexer": "ipython3",
            "nbconvert_exporter": "python",
            "file_extension": ".py"
        }
    },
    "nbformat": 4,
    "nbformat_minor": 1
}