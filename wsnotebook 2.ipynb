{
    "cells": [
        {
            "metadata": {},
            "cell_type": "markdown",
            "source": "descripcion - prueba ws con notebooks lab 07 05"
        },
        {
            "metadata": {},
            "cell_type": "code",
            "source": "\nimport types\nimport pandas as pd\nfrom botocore.client import Config\nimport ibm_boto3\n\ndef __iter__(self): return 0\n\n# @hidden_cell\n# The following code accesses a file in your IBM Cloud Object Storage. It includes your credentials.\n# You might want to remove those credentials before you share the notebook.\nclient_7f162d0a89ea4657b4ec1806008b6cce = ibm_boto3.client(service_name='s3',\n    ibm_api_key_id='mbK6Cv57UtUtc5vNmHH0KxAWfdd-Q8y-M4fKB_-kLIIS',\n    ibm_auth_endpoint=\"https://iam.cloud.ibm.com/oidc/token\",\n    config=Config(signature_version='oauth'),\n    endpoint_url='https://s3.eu-geo.objectstorage.service.networklayer.com')\n\nbody = client_7f162d0a89ea4657b4ec1806008b6cce.get_object(Bucket='wsnote-donotdelete-pr-j1ixdry4rpovqt',Key='SAN.MC02.csv')['Body']\n# add missing __iter__ method, so pandas accepts body as file-like object\nif not hasattr(body, \"__iter__\"): body.__iter__ = types.MethodType( __iter__, body )\n\ndf_data_1 = pd.read_csv(body)\ndf_data_1.head()\n",
            "execution_count": 1,
            "outputs": [
                {
                    "output_type": "execute_result",
                    "execution_count": 1,
                    "data": {
                        "text/plain": "         Date    Open    High     Low   Close  Adj Close    Volume\n0  2019-05-30  4.0390  4.0720  4.0125  4.0500   3.765502  25051266\n1  2019-05-31  3.9800  4.0000  3.9400  3.9520   3.674386  57974786\n2  2019-06-03  3.9200  3.9515  3.9020  3.9400   3.663229  45461611\n3  2019-06-04  3.9275  4.0475  3.9150  4.0415   3.757599  49157991\n4  2019-06-05  4.0400  4.0475  3.9730  4.0115   3.729707  36502464",
                        "text/html": "<div>\n<style scoped>\n    .dataframe tbody tr th:only-of-type {\n        vertical-align: middle;\n    }\n\n    .dataframe tbody tr th {\n        vertical-align: top;\n    }\n\n    .dataframe thead th {\n        text-align: right;\n    }\n</style>\n<table border=\"1\" class=\"dataframe\">\n  <thead>\n    <tr style=\"text-align: right;\">\n      <th></th>\n      <th>Date</th>\n      <th>Open</th>\n      <th>High</th>\n      <th>Low</th>\n      <th>Close</th>\n      <th>Adj Close</th>\n      <th>Volume</th>\n    </tr>\n  </thead>\n  <tbody>\n    <tr>\n      <th>0</th>\n      <td>2019-05-30</td>\n      <td>4.0390</td>\n      <td>4.0720</td>\n      <td>4.0125</td>\n      <td>4.0500</td>\n      <td>3.765502</td>\n      <td>25051266</td>\n    </tr>\n    <tr>\n      <th>1</th>\n      <td>2019-05-31</td>\n      <td>3.9800</td>\n      <td>4.0000</td>\n      <td>3.9400</td>\n      <td>3.9520</td>\n      <td>3.674386</td>\n      <td>57974786</td>\n    </tr>\n    <tr>\n      <th>2</th>\n      <td>2019-06-03</td>\n      <td>3.9200</td>\n      <td>3.9515</td>\n      <td>3.9020</td>\n      <td>3.9400</td>\n      <td>3.663229</td>\n      <td>45461611</td>\n    </tr>\n    <tr>\n      <th>3</th>\n      <td>2019-06-04</td>\n      <td>3.9275</td>\n      <td>4.0475</td>\n      <td>3.9150</td>\n      <td>4.0415</td>\n      <td>3.757599</td>\n      <td>49157991</td>\n    </tr>\n    <tr>\n      <th>4</th>\n      <td>2019-06-05</td>\n      <td>4.0400</td>\n      <td>4.0475</td>\n      <td>3.9730</td>\n      <td>4.0115</td>\n      <td>3.729707</td>\n      <td>36502464</td>\n    </tr>\n  </tbody>\n</table>\n</div>"
                    },
                    "metadata": {}
                }
            ]
        },
        {
            "metadata": {},
            "cell_type": "code",
            "source": "",
            "execution_count": null,
            "outputs": []
        }
    ],
    "metadata": {
        "kernelspec": {
            "name": "python3",
            "display_name": "Python 3.7",
            "language": "python"
        },
        "language_info": {
            "name": "python",
            "version": "3.7.9",
            "mimetype": "text/x-python",
            "codemirror_mode": {
                "name": "ipython",
                "version": 3
            },
            "pygments_lexer": "ipython3",
            "nbconvert_exporter": "python",
            "file_extension": ".py"
        }
    },
    "nbformat": 4,
    "nbformat_minor": 1
}