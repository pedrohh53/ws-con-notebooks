{
    "cells": [
        {
            "metadata": {},
            "cell_type": "markdown",
            "source": "Descripcion - laboratorio practico WS con notebooks"
        },
        {
            "metadata": {},
            "cell_type": "code",
            "source": "\nimport types\nimport pandas as pd\nfrom botocore.client import Config\nimport ibm_boto3\n\ndef __iter__(self): return 0\n\n# @hidden_cell\n# The following code accesses a file in your IBM Cloud Object Storage. It includes your credentials.\n# You might want to remove those credentials before you share the notebook.\nclient_7f162d0a89ea4657b4ec1806008b6cce = ibm_boto3.client(service_name='s3',\n    ibm_api_key_id='7xIFRzXlTX0M5yvylsNfxCfLoszq6gxmS_t4JCdcN7br',\n    ibm_auth_endpoint=\"https://iam.cloud.ibm.com/oidc/token\",\n    config=Config(signature_version='oauth'),\n    endpoint_url='https://s3.eu-geo.objectstorage.service.networklayer.com')\n\nbody = client_7f162d0a89ea4657b4ec1806008b6cce.get_object(Bucket='wsconnotebooks-donotdelete-pr-icm20s8fjoqvfk',Key='SAN.MC03.csv')['Body']\n# add missing __iter__ method, so pandas accepts body as file-like object\nif not hasattr(body, \"__iter__\"): body.__iter__ = types.MethodType( __iter__, body )\n\ndf_data_1 = pd.read_csv(body)\ndf_data_1.head()\n",
            "execution_count": 1,
            "outputs": [
                {
                    "output_type": "execute_result",
                    "execution_count": 1,
                    "data": {
                        "text/plain": "         Date   Open   High     Low   Close  Adj Close       Volume\n0  2019-10-29  3.986  3.999  3.9410  3.9665   3.687868   35902639.0\n1  2019-10-30  3.896  3.896  3.6825  3.7095   3.538121   99751919.0\n2  2019-10-31  3.695  3.695  3.5560  3.5940   3.427957  157703692.0\n3  2019-11-01  3.600  3.634  3.5615  3.6100   3.443218  157399834.0\n4  2019-11-04  3.656  3.734  3.6505  3.7280   3.555766  332221162.0",
                        "text/html": "<div>\n<style scoped>\n    .dataframe tbody tr th:only-of-type {\n        vertical-align: middle;\n    }\n\n    .dataframe tbody tr th {\n        vertical-align: top;\n    }\n\n    .dataframe thead th {\n        text-align: right;\n    }\n</style>\n<table border=\"1\" class=\"dataframe\">\n  <thead>\n    <tr style=\"text-align: right;\">\n      <th></th>\n      <th>Date</th>\n      <th>Open</th>\n      <th>High</th>\n      <th>Low</th>\n      <th>Close</th>\n      <th>Adj Close</th>\n      <th>Volume</th>\n    </tr>\n  </thead>\n  <tbody>\n    <tr>\n      <th>0</th>\n      <td>2019-10-29</td>\n      <td>3.986</td>\n      <td>3.999</td>\n      <td>3.9410</td>\n      <td>3.9665</td>\n      <td>3.687868</td>\n      <td>35902639.0</td>\n    </tr>\n    <tr>\n      <th>1</th>\n      <td>2019-10-30</td>\n      <td>3.896</td>\n      <td>3.896</td>\n      <td>3.6825</td>\n      <td>3.7095</td>\n      <td>3.538121</td>\n      <td>99751919.0</td>\n    </tr>\n    <tr>\n      <th>2</th>\n      <td>2019-10-31</td>\n      <td>3.695</td>\n      <td>3.695</td>\n      <td>3.5560</td>\n      <td>3.5940</td>\n      <td>3.427957</td>\n      <td>157703692.0</td>\n    </tr>\n    <tr>\n      <th>3</th>\n      <td>2019-11-01</td>\n      <td>3.600</td>\n      <td>3.634</td>\n      <td>3.5615</td>\n      <td>3.6100</td>\n      <td>3.443218</td>\n      <td>157399834.0</td>\n    </tr>\n    <tr>\n      <th>4</th>\n      <td>2019-11-04</td>\n      <td>3.656</td>\n      <td>3.734</td>\n      <td>3.6505</td>\n      <td>3.7280</td>\n      <td>3.555766</td>\n      <td>332221162.0</td>\n    </tr>\n  </tbody>\n</table>\n</div>"
                    },
                    "metadata": {}
                }
            ]
        },
        {
            "metadata": {},
            "cell_type": "code",
            "source": "",
            "execution_count": null,
            "outputs": []
        }
    ],
    "metadata": {
        "kernelspec": {
            "name": "python3",
            "display_name": "Python 3.7",
            "language": "python"
        },
        "language_info": {
            "name": "python",
            "version": "3.7.9",
            "mimetype": "text/x-python",
            "codemirror_mode": {
                "name": "ipython",
                "version": 3
            },
            "pygments_lexer": "ipython3",
            "nbconvert_exporter": "python",
            "file_extension": ".py"
        }
    },
    "nbformat": 4,
    "nbformat_minor": 1
}